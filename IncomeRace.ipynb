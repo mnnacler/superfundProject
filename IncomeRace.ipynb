{
 "cells": [
  {
   "cell_type": "code",
   "execution_count": 21,
   "metadata": {},
   "outputs": [],
   "source": [
    "# Dependencies\n",
    "import pandas as pd\n",
    "import matplotlib.pyplot as plt\n",
    "import scipy.stats as sts\n",
    "import numpy as np\n",
    "from scipy.stats import sem\n",
    "import random"
   ]
  },
  {
   "cell_type": "code",
   "execution_count": 22,
   "metadata": {},
   "outputs": [],
   "source": [
    "#read in income race \n",
    "incomeRace_df = pd.read_csv('incomeAndRaceData_2017.csv')\n",
    "incomeRace_df.head ()\n",
    "#read in contaminated FIPS\n",
    "FIPS_Contaminated = pd.read_csv(\"subset_contaminated_FIPS_df.csv\")\n",
    "\n",
    "# read in clean Fips\n",
    "FIPS_Clean = pd.read_csv(\"Clean_Fips.csv\")\n",
    "FIPS_Clean.reset_index(level=0, inplace=True)"
   ]
  },
  {
   "cell_type": "code",
   "execution_count": 23,
   "metadata": {},
   "outputs": [],
   "source": [
    "clean_incomeRace_df = incomeRace_df[[\"CountyId\",\"Hispanic\", \"White\", \"Black\", \"Native\", \"Income\", \"Asian\", \"Pacific\"]]\n",
    "#clean_incomeRace_df. head()"
   ]
  },
  {
   "cell_type": "code",
   "execution_count": 24,
   "metadata": {},
   "outputs": [
    {
     "data": {
      "text/html": [
       "<div>\n",
       "<style scoped>\n",
       "    .dataframe tbody tr th:only-of-type {\n",
       "        vertical-align: middle;\n",
       "    }\n",
       "\n",
       "    .dataframe tbody tr th {\n",
       "        vertical-align: top;\n",
       "    }\n",
       "\n",
       "    .dataframe thead th {\n",
       "        text-align: right;\n",
       "    }\n",
       "</style>\n",
       "<table border=\"1\" class=\"dataframe\">\n",
       "  <thead>\n",
       "    <tr style=\"text-align: right;\">\n",
       "      <th></th>\n",
       "      <th>CountyId</th>\n",
       "      <th>Income</th>\n",
       "    </tr>\n",
       "  </thead>\n",
       "  <tbody>\n",
       "    <tr>\n",
       "      <th>12</th>\n",
       "      <td>1025</td>\n",
       "      <td>33827</td>\n",
       "    </tr>\n",
       "    <tr>\n",
       "      <th>17</th>\n",
       "      <td>1035</td>\n",
       "      <td>30434</td>\n",
       "    </tr>\n",
       "    <tr>\n",
       "      <th>24</th>\n",
       "      <td>1049</td>\n",
       "      <td>38842</td>\n",
       "    </tr>\n",
       "    <tr>\n",
       "      <th>47</th>\n",
       "      <td>1095</td>\n",
       "      <td>41104</td>\n",
       "    </tr>\n",
       "    <tr>\n",
       "      <th>94</th>\n",
       "      <td>2282</td>\n",
       "      <td>64583</td>\n",
       "    </tr>\n",
       "    <tr>\n",
       "      <th>...</th>\n",
       "      <td>...</td>\n",
       "      <td>...</td>\n",
       "    </tr>\n",
       "    <tr>\n",
       "      <th>2876</th>\n",
       "      <td>51115</td>\n",
       "      <td>63622</td>\n",
       "    </tr>\n",
       "    <tr>\n",
       "      <th>2995</th>\n",
       "      <td>54007</td>\n",
       "      <td>41266</td>\n",
       "    </tr>\n",
       "    <tr>\n",
       "      <th>3013</th>\n",
       "      <td>54043</td>\n",
       "      <td>37075</td>\n",
       "    </tr>\n",
       "    <tr>\n",
       "      <th>3109</th>\n",
       "      <td>55123</td>\n",
       "      <td>49996</td>\n",
       "    </tr>\n",
       "    <tr>\n",
       "      <th>3141</th>\n",
       "      <td>56045</td>\n",
       "      <td>59605</td>\n",
       "    </tr>\n",
       "  </tbody>\n",
       "</table>\n",
       "<p>97 rows × 2 columns</p>\n",
       "</div>"
      ],
      "text/plain": [
       "      CountyId  Income\n",
       "12        1025   33827\n",
       "17        1035   30434\n",
       "24        1049   38842\n",
       "47        1095   41104\n",
       "94        2282   64583\n",
       "...        ...     ...\n",
       "2876     51115   63622\n",
       "2995     54007   41266\n",
       "3013     54043   37075\n",
       "3109     55123   49996\n",
       "3141     56045   59605\n",
       "\n",
       "[97 rows x 2 columns]"
      ]
     },
     "execution_count": 24,
     "metadata": {},
     "output_type": "execute_result"
    }
   ],
   "source": [
    "# create dataframe with only CLEAN Fips \n",
    " \n",
    "FIPsClean = clean_incomeRace_df.loc[incomeRace_df[\"CountyId\"].isin(FIPS_Clean[\"FIPS\"])==True]\n",
    "FIPsClean\n",
    "\n",
    "#income\n",
    "FIPsCleanIncome = FIPsClean[[\"CountyId\", \"Income\"]]\n",
    "FIPsCleanIncome\n",
    "\n",
    "# race \n",
    "#FIPsCleanRace = FIPsClean[[\"CountyId\",\"Hispanic\", \"White\", \"Black\", \"Native\"]]\n",
    "#FIPsCleanRace                           \n"
   ]
  },
  {
   "cell_type": "code",
   "execution_count": 25,
   "metadata": {},
   "outputs": [],
   "source": [
    "#create dataframe with only contaminated files \n",
    "FIPsContaminated = clean_incomeRace_df.loc[incomeRace_df[\"CountyId\"].isin(FIPS_Contaminated[\"SEMS_ACTIVE_SITES.SITE_FIPS_CODE\"])==True]\n",
    "#FIPsContaminated\n",
    "# income\n",
    "#FIPsContaminatedIncome =  FIPsContaminated[[\"CountyId\", \"Income\"]]\n",
    "#FIPsContaminatedIncome\n",
    "# race\n",
    "#FIPsContaimnatedRace = FIPsContaminated[[\"CountyId\",\"Hispanic\", \"White\", \"Black\", \"Native\", \"Asian\", \"Pacific\"]]\n",
    "#FIPsContaimnatedRace"
   ]
  },
  {
   "cell_type": "code",
   "execution_count": 28,
   "metadata": {},
   "outputs": [
    {
     "data": {
      "image/png": "[encoded data removed]",
      "text/plain": [
       "<Figure size 432x288 with 1 Axes>"
      ]
     },
     "metadata": {},
     "output_type": "display_data"
    }
   ],
   "source": [
    "# pie chart for race \n",
    "#Contaminated \n",
    "Hispanic1 = np.mean(FIPsContaminated[\"Hispanic\"])\n",
    "White1= np.mean(FIPsContaminated[\"White\"])\n",
    "Black1=np.mean(FIPsContaminated[\"Black\"])\n",
    "Native1= np.mean(FIPsContaminated[\"Native\"])\n",
    "Asian1 = np.mean(FIPsContaminated[\"Asian\"])\n",
    "Pacific1= np.mean(FIPsContaminated[\"Pacific\"])\n",
    "\n",
    "#Clean\n",
    "Hispanic2 = np.mean(FIPsClean[\"Hispanic\"])\n",
    "White2 = np.mean(FIPsClean[\"White\"])\n",
    "Black2 = np.mean(FIPsClean[\"Black\"])\n",
    "Native2 = np.mean(FIPsClean[\"Native\"])\n",
    "Asian2 = np.mean(FIPsContaminated[\"Asian\"])\n",
    "Pacific2 = np.mean(FIPsContaminated[\"Pacific\"])\n",
    "\n",
    "plt.title(\"Average Race Percentage in Contaminated Locations\")\n",
    "plt.pie([Hispanic2, White2 , Black2, Native2, Asian2, Pacific2], labels = [\"Hispanic\", \"White\", \"African American\", \"Native American\", \"Asian\", \"Pacific\"], autopct = \"%1.1f%%\")\n",
    "plt.axis(\"equal\")\n",
    "plt.show()"
   ]
  },
  {
   "cell_type": "code",
   "execution_count": 29,
   "metadata": {},
   "outputs": [
    {
     "data": {
      "image/png": "[encoded data removed]",
      "text/plain": [
       "<Figure size 432x288 with 1 Axes>"
      ]
     },
     "metadata": {},
     "output_type": "display_data"
    }
   ],
   "source": [
    "plt.title(\"Average Race Percentage in Clean Locations\")\n",
    "plt.pie([Hispanic1, White1 , Black1 , Native1, Asian1, Pacific1], labels = [\"Hispanic\", \"White\", \"African American\", \"Native American\", \"Asian\", \"Pacific\"], autopct = \"%1.1f%%\")\n",
    "plt.axis(\"equal\")\n",
    "plt.show()"
   ]
  },
  {
   "cell_type": "code",
   "execution_count": 19,
   "metadata": {},
   "outputs": [
    {
     "name": "stderr",
     "output_type": "stream",
     "text": [
      "<ipython-input-19-a3ce36acd242>:4: SettingWithCopyWarning: \n",
      "A value is trying to be set on a copy of a slice from a DataFrame.\n",
      "Try using .loc[row_indexer,col_indexer] = value instead\n",
      "\n",
      "See the caveats in the documentation: https://pandas.pydata.org/pandas-docs/stable/user_guide/indexing.html#returning-a-view-versus-a-copy\n",
      "  FIPsCleanIncome[\"Income Range\"] = pd.cut(FIPsCleanIncome[\"Income\"], Bins, labels= labels)\n"
     ]
    },
    {
     "data": {
      "text/html": [
       "<div>\n",
       "<style scoped>\n",
       "    .dataframe tbody tr th:only-of-type {\n",
       "        vertical-align: middle;\n",
       "    }\n",
       "\n",
       "    .dataframe tbody tr th {\n",
       "        vertical-align: top;\n",
       "    }\n",
       "\n",
       "    .dataframe thead th {\n",
       "        text-align: right;\n",
       "    }\n",
       "</style>\n",
       "<table border=\"1\" class=\"dataframe\">\n",
       "  <thead>\n",
       "    <tr style=\"text-align: right;\">\n",
       "      <th></th>\n",
       "      <th>Income</th>\n",
       "    </tr>\n",
       "    <tr>\n",
       "      <th>Income Range</th>\n",
       "      <th></th>\n",
       "    </tr>\n",
       "  </thead>\n",
       "  <tbody>\n",
       "    <tr>\n",
       "      <th>$0-$25K</th>\n",
       "      <td>0</td>\n",
       "    </tr>\n",
       "    <tr>\n",
       "      <th>$25K-$50K</th>\n",
       "      <td>65</td>\n",
       "    </tr>\n",
       "    <tr>\n",
       "      <th>$50K-$75K</th>\n",
       "      <td>28</td>\n",
       "    </tr>\n",
       "    <tr>\n",
       "      <th>$75K-100K</th>\n",
       "      <td>4</td>\n",
       "    </tr>\n",
       "    <tr>\n",
       "      <th>$100K+</th>\n",
       "      <td>0</td>\n",
       "    </tr>\n",
       "  </tbody>\n",
       "</table>\n",
       "</div>"
      ],
      "text/plain": [
       "              Income\n",
       "Income Range        \n",
       "$0-$25K            0\n",
       "$25K-$50K         65\n",
       "$50K-$75K         28\n",
       "$75K-100K          4\n",
       "$100K+             0"
      ]
     },
     "execution_count": 19,
     "metadata": {},
     "output_type": "execute_result"
    }
   ],
   "source": [
    "# create a bar chart for contaminates sites income \n",
    "Bins = [0,25000,50000,75000,100000,200000]\n",
    "labels = [\"$0-$25K\", \"$25K-$50K\", \"$50K-$75K\", \"$75K-100K\", \"$100K+\"]\n",
    "FIPsCleanIncome[\"Income Range\"] = pd.cut(FIPsCleanIncome[\"Income\"], Bins, labels= labels)\n",
    "FIPsCleanIncome\n",
    "\n",
    "groupCleanIncome = FIPsCleanIncome.groupby(\"Income Range\").count()\n",
    "groupCleanIncome= groupCleanIncome[[\"Income\"]]\n",
    "groupCleanIncome\n",
    "#groupCleanIncome.plot(kind=\"bar\")\n",
    "\n"
   ]
  },
  {
   "cell_type": "code",
   "execution_count": 13,
   "metadata": {},
   "outputs": [
    {
     "name": "stderr",
     "output_type": "stream",
     "text": [
      "<ipython-input-13-ec963d00a8bb>:4: SettingWithCopyWarning: \n",
      "A value is trying to be set on a copy of a slice from a DataFrame.\n",
      "Try using .loc[row_indexer,col_indexer] = value instead\n",
      "\n",
      "See the caveats in the documentation: https://pandas.pydata.org/pandas-docs/stable/user_guide/indexing.html#returning-a-view-versus-a-copy\n",
      "  FIPsContaminatedIncome[\"Income Range\"] = pd.cut(FIPsContaminatedIncome[\"Income\"], Bins, labels= labels)\n"
     ]
    },
    {
     "data": {
      "text/html": [
       "<div>\n",
       "<style scoped>\n",
       "    .dataframe tbody tr th:only-of-type {\n",
       "        vertical-align: middle;\n",
       "    }\n",
       "\n",
       "    .dataframe tbody tr th {\n",
       "        vertical-align: top;\n",
       "    }\n",
       "\n",
       "    .dataframe thead th {\n",
       "        text-align: right;\n",
       "    }\n",
       "</style>\n",
       "<table border=\"1\" class=\"dataframe\">\n",
       "  <thead>\n",
       "    <tr style=\"text-align: right;\">\n",
       "      <th></th>\n",
       "      <th>Income</th>\n",
       "    </tr>\n",
       "    <tr>\n",
       "      <th>Income Range</th>\n",
       "      <th></th>\n",
       "    </tr>\n",
       "  </thead>\n",
       "  <tbody>\n",
       "    <tr>\n",
       "      <th>$0-$25K</th>\n",
       "      <td>1</td>\n",
       "    </tr>\n",
       "    <tr>\n",
       "      <th>$25K-$50K</th>\n",
       "      <td>43</td>\n",
       "    </tr>\n",
       "    <tr>\n",
       "      <th>$50K-$75K</th>\n",
       "      <td>37</td>\n",
       "    </tr>\n",
       "    <tr>\n",
       "      <th>$75K-100K</th>\n",
       "      <td>14</td>\n",
       "    </tr>\n",
       "    <tr>\n",
       "      <th>$100K+</th>\n",
       "      <td>1</td>\n",
       "    </tr>\n",
       "  </tbody>\n",
       "</table>\n",
       "</div>"
      ],
      "text/plain": [
       "              Income\n",
       "Income Range        \n",
       "$0-$25K            1\n",
       "$25K-$50K         43\n",
       "$50K-$75K         37\n",
       "$75K-100K         14\n",
       "$100K+             1"
      ]
     },
     "execution_count": 13,
     "metadata": {},
     "output_type": "execute_result"
    }
   ],
   "source": [
    "# bar chart for income for clean sites income\n",
    "Bins = [0,25000,50000,75000,100000,200000]\n",
    "labels = [\"$0-$25K\", \"$25K-$50K\", \"$50K-$75K\", \"$75K-100K\", \"$100K+\"]\n",
    "FIPsContaminatedIncome[\"Income Range\"] = pd.cut(FIPsContaminatedIncome[\"Income\"], Bins, labels= labels)\n",
    "\n",
    "groupConIncome = FIPsContaminatedIncome.groupby(\"Income Range\").count()\n",
    "groupConIncome = groupConIncome[[\"Income\"]]\n",
    "groupConIncome\n",
    "#groupConIncome.plot(kind=\"bar\")"
   ]
  },
  {
   "cell_type": "code",
   "execution_count": 10,
   "metadata": {},
   "outputs": [
    {
     "data": {
      "text/html": [
       "<div>\n",
       "<style scoped>\n",
       "    .dataframe tbody tr th:only-of-type {\n",
       "        vertical-align: middle;\n",
       "    }\n",
       "\n",
       "    .dataframe tbody tr th {\n",
       "        vertical-align: top;\n",
       "    }\n",
       "\n",
       "    .dataframe thead th {\n",
       "        text-align: right;\n",
       "    }\n",
       "</style>\n",
       "<table border=\"1\" class=\"dataframe\">\n",
       "  <thead>\n",
       "    <tr style=\"text-align: right;\">\n",
       "      <th></th>\n",
       "      <th>Clean Sites</th>\n",
       "      <th>Contaminated Sites</th>\n",
       "    </tr>\n",
       "    <tr>\n",
       "      <th>Income Range</th>\n",
       "      <th></th>\n",
       "      <th></th>\n",
       "    </tr>\n",
       "  </thead>\n",
       "  <tbody>\n",
       "    <tr>\n",
       "      <th>$0-$25K</th>\n",
       "      <td>0</td>\n",
       "      <td>1</td>\n",
       "    </tr>\n",
       "    <tr>\n",
       "      <th>$25K-$50K</th>\n",
       "      <td>65</td>\n",
       "      <td>43</td>\n",
       "    </tr>\n",
       "    <tr>\n",
       "      <th>$50K-$75K</th>\n",
       "      <td>28</td>\n",
       "      <td>37</td>\n",
       "    </tr>\n",
       "    <tr>\n",
       "      <th>$75K-100K</th>\n",
       "      <td>4</td>\n",
       "      <td>14</td>\n",
       "    </tr>\n",
       "    <tr>\n",
       "      <th>$100K+</th>\n",
       "      <td>0</td>\n",
       "      <td>1</td>\n",
       "    </tr>\n",
       "  </tbody>\n",
       "</table>\n",
       "</div>"
      ],
      "text/plain": [
       "              Clean Sites  Contaminated Sites\n",
       "Income Range                                 \n",
       "$0-$25K                 0                   1\n",
       "$25K-$50K              65                  43\n",
       "$50K-$75K              28                  37\n",
       "$75K-100K               4                  14\n",
       "$100K+                  0                   1"
      ]
     },
     "execution_count": 10,
     "metadata": {},
     "output_type": "execute_result"
    }
   ],
   "source": [
    "#combined graph\n",
    "combinedIncome = pd.merge(groupCleanIncome, groupConIncome, on =\"Income Range\", how = \"outer\")\n",
    "combinedIncome = combinedIncome.rename(columns={\"Income_x\":\"Clean Sites\",\"Income_y\":\"Contaminated Sites\"})\n",
    "combinedIncome\n"
   ]
  },
  {
   "cell_type": "code",
   "execution_count": 11,
   "metadata": {},
   "outputs": [
    {
     "data": {
      "text/plain": [
       "(0.0, 70.0)"
      ]
     },
     "execution_count": 11,
     "metadata": {},
     "output_type": "execute_result"
    },
    {
     "data": {
      "image/png": "[encoded data removed]",
      "text/plain": [
       "<Figure size 432x288 with 1 Axes>"
      ]
     },
     "metadata": {
      "needs_background": "light"
     },
     "output_type": "display_data"
    }
   ],
   "source": [
    "PLOT = combinedIncome.plot.bar(rot=45)\n",
    "PLOT\n",
    "#combinedIncome.plot(kind = \"bar\")\n",
    "plt.title(\"Comparison of Average Income\")\n",
    "plt.ylabel(\"# of FIPs per Sample\")\n",
    "plt.ylim(0,70)"
   ]
  },
  {
   "cell_type": "code",
   "execution_count": null,
   "metadata": {},
   "outputs": [],
   "source": []
  }
 ],
 "metadata": {
  "kernelspec": {
   "display_name": "Python 3",
   "language": "python",
   "name": "python3"
  },
  "language_info": {
   "codemirror_mode": {
    "name": "ipython",
    "version": 3
   },
   "file_extension": ".py",
   "mimetype": "text/x-python",
   "name": "python",
   "nbconvert_exporter": "python",
   "pygments_lexer": "ipython3",
   "version": "3.8.3"
  }
 },
 "nbformat": 4,
 "nbformat_minor": 4
}
