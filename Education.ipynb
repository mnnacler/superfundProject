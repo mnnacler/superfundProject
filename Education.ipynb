{
 "cells": [
  {
   "cell_type": "code",
   "execution_count": 17,
   "metadata": {},
   "outputs": [],
   "source": [
    "# Dependencies\n",
    "import pandas as pd\n",
    "import matplotlib.pyplot as plt\n",
    "import scipy.stats as sts\n",
    "import numpy as np\n",
    "from scipy.stats import sem\n",
    "import random"
   ]
  },
  {
   "cell_type": "code",
   "execution_count": 19,
   "metadata": {},
   "outputs": [],
   "source": [
    "# read in the three csvs:  education data;  df of clean FIPs, df of contaminated FIPS\n",
    "\n",
    "Education = pd.read_csv('Education.csv')\n",
    "Education.head()\n",
    "\n",
    "FIPS_Contaminated = pd.read_csv(\"subset_Contaminated_FIPS_df.csv\")\n",
    "#print(len(FIPS_Contaminated))\n",
    "\n",
    "\n",
    "FIPS_Clean = pd.read_csv(\"Clean_Fips.csv\")\n",
    "FIPS_Clean.reset_index(level=0, inplace=True)\n",
    "#print(len(FIPS_Clean))"
   ]
  },
  {
   "cell_type": "code",
   "execution_count": 30,
   "metadata": {},
   "outputs": [],
   "source": [
    "#create an education dataframe with only the CLEAN FIPs\n",
    "#Percent(1) = some high school\n",
    "#Percent(2) = diploma\n",
    "#Percent(3) = some college\n",
    "#Percent(4) = college graduate or higher\n",
    "\n",
    "FIPs_clean_education = Education.loc[Education[\"FIPS Code\"].isin(FIPS_Clean[\"FIPS\"])==True]\n",
    "#FIPs_clean_education.sort_values([\"FIPS Code\"])\n",
    "\n",
    "    "
   ]
  },
  {
   "cell_type": "code",
   "execution_count": 31,
   "metadata": {},
   "outputs": [],
   "source": [
    "#create an education dataframe with only the CONTAMINATED FIPS\n",
    "\n",
    "FIPs_contaminated_education = Education.loc[Education[\"FIPS Code\"].isin(FIPS_Contaminated[\"SEMS_ACTIVE_SITES.SITE_FIPS_CODE\"])==True]\n",
    "FIPs_contaminated_education.sort_values([\"FIPS Code\"])\n",
    "#FIPs_clean_education.count()"
   ]
  },
  {
   "cell_type": "code",
   "execution_count": 49,
   "metadata": {},
   "outputs": [
    {
     "data": {
      "text/html": [
       "<div>\n",
       "<style scoped>\n",
       "    .dataframe tbody tr th:only-of-type {\n",
       "        vertical-align: middle;\n",
       "    }\n",
       "\n",
       "    .dataframe tbody tr th {\n",
       "        vertical-align: top;\n",
       "    }\n",
       "\n",
       "    .dataframe thead th {\n",
       "        text-align: right;\n",
       "    }\n",
       "</style>\n",
       "<table border=\"1\" class=\"dataframe\">\n",
       "  <thead>\n",
       "    <tr style=\"text-align: right;\">\n",
       "      <th></th>\n",
       "      <th>Clean FIPS</th>\n",
       "      <th>Contaminated FIPS</th>\n",
       "    </tr>\n",
       "  </thead>\n",
       "  <tbody>\n",
       "    <tr>\n",
       "      <th>Some High School</th>\n",
       "      <td>14.395960</td>\n",
       "      <td>11.619192</td>\n",
       "    </tr>\n",
       "    <tr>\n",
       "      <th>High School Diploma</th>\n",
       "      <td>35.059596</td>\n",
       "      <td>28.929293</td>\n",
       "    </tr>\n",
       "    <tr>\n",
       "      <th>Some College</th>\n",
       "      <td>31.088889</td>\n",
       "      <td>31.035354</td>\n",
       "    </tr>\n",
       "    <tr>\n",
       "      <th>College Graduate or Higher</th>\n",
       "      <td>19.462626</td>\n",
       "      <td>28.414141</td>\n",
       "    </tr>\n",
       "  </tbody>\n",
       "</table>\n",
       "</div>"
      ],
      "text/plain": [
       "                            Clean FIPS  Contaminated FIPS\n",
       "Some High School             14.395960          11.619192\n",
       "High School Diploma          35.059596          28.929293\n",
       "Some College                 31.088889          31.035354\n",
       "College Graduate or Higher   19.462626          28.414141"
      ]
     },
     "execution_count": 49,
     "metadata": {},
     "output_type": "execute_result"
    }
   ],
   "source": [
    "# get the average education for each sample set\n",
    "\n",
    "CleanP1 = np.mean(FIPs_clean_education[\"Percent(1)\"])\n",
    "CleanP2 = np.mean(FIPs_clean_education[\"Percent(2)\"])\n",
    "CleanP3 = np.mean(FIPs_clean_education[\"Percent(3)\"])\n",
    "CleanP4 = np.mean(FIPs_clean_education[\"Percent(4)\"])\n",
    "#CleanP4\n",
    "\n",
    "ContP1 = np.mean(FIPs_contaminated_education[\"Percent(1)\"])\n",
    "ContP2 = np.mean(FIPs_contaminated_education[\"Percent(2)\"])\n",
    "ContP3 = np.mean(FIPs_contaminated_education[\"Percent(3)\"])\n",
    "ContP4 = np.mean(FIPs_contaminated_education[\"Percent(4)\"])\n",
    "#ContP4\n",
    "\n",
    "#create a dataframe\n",
    "x_axis = [\"Some High School\", \"High School Diploma\", \"Some College\", \"College Graduate or Higher\"]\n",
    "y_axis_df = pd.DataFrame({\n",
    "    \n",
    "    \"Clean FIPS\":[CleanP1, CleanP2, CleanP3, CleanP4],\n",
    "    \"Contaminated FIPS\": [ContP1, ContP2, ContP3, ContP4]\n",
    "    \n",
    "}, index= x_axis)\n",
    "y_axis_df\n"
   ]
  },
  {
   "cell_type": "code",
   "execution_count": 51,
   "metadata": {},
   "outputs": [
    {
     "data": {
      "text/plain": [
       "Text(0, 0.5, 'Average Percentage per Sample')"
      ]
     },
     "execution_count": 51,
     "metadata": {},
     "output_type": "execute_result"
    },
    {
     "data": {
      "image/png": "[encoded data removed]",
      "text/plain": [
       "<Figure size 432x288 with 1 Axes>"
      ]
     },
     "metadata": {
      "needs_background": "light"
     },
     "output_type": "display_data"
    }
   ],
   "source": [
    "\n",
    "# create a multiplot bar chart for the four levels of education for each Sample\n",
    "\n",
    "PLOT = y_axis_df.plot.bar(rot=45)\n",
    "PLOT\n",
    "\n",
    "plt.title(\"Comparison of Education\")\n",
    "plt.ylabel(\"Average Percentage per Sample\")\n",
    "\n"
   ]
  },
  {
   "cell_type": "code",
   "execution_count": null,
   "metadata": {},
   "outputs": [],
   "source": [
    "\n",
    "\n"
   ]
  },
  {
   "cell_type": "code",
   "execution_count": null,
   "metadata": {},
   "outputs": [],
   "source": []
  }
 ],
 "metadata": {
  "kernelspec": {
   "display_name": "Python 3",
   "language": "python",
   "name": "python3"
  },
  "language_info": {
   "codemirror_mode": {
    "name": "ipython",
    "version": 3
   },
   "file_extension": ".py",
   "mimetype": "text/x-python",
   "name": "python",
   "nbconvert_exporter": "python",
   "pygments_lexer": "ipython3",
   "version": "3.8.3"
  }
 },
 "nbformat": 4,
 "nbformat_minor": 4
}
