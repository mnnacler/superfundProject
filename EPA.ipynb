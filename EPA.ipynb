{
 "cells": [
  {
   "cell_type": "code",
   "execution_count": 5,
   "metadata": {},
   "outputs": [],
   "source": [
    "# Dependencies\n",
    "import pandas as pd\n",
    "import matplotlib.pyplot as plt\n",
    "import scipy.stats as sts\n",
    "import numpy as np\n",
    "from scipy.stats import sem\n",
    "import random"
   ]
  },
  {
   "cell_type": "code",
   "execution_count": 12,
   "metadata": {},
   "outputs": [
    {
     "data": {
      "text/html": [
       "<div>\n",
       "<style scoped>\n",
       "    .dataframe tbody tr th:only-of-type {\n",
       "        vertical-align: middle;\n",
       "    }\n",
       "\n",
       "    .dataframe tbody tr th {\n",
       "        vertical-align: top;\n",
       "    }\n",
       "\n",
       "    .dataframe thead th {\n",
       "        text-align: right;\n",
       "    }\n",
       "</style>\n",
       "<table border=\"1\" class=\"dataframe\">\n",
       "  <thead>\n",
       "    <tr style=\"text-align: right;\">\n",
       "      <th></th>\n",
       "      <th>FIPS code        name</th>\n",
       "      <th>FIPScodename(no space)</th>\n",
       "      <th>FIPS#</th>\n",
       "      <th>FIPS</th>\n",
       "    </tr>\n",
       "  </thead>\n",
       "  <tbody>\n",
       "    <tr>\n",
       "      <th>0</th>\n",
       "      <td>01000        Alabama</td>\n",
       "      <td>01000Alabama</td>\n",
       "      <td>1000</td>\n",
       "      <td>1000</td>\n",
       "    </tr>\n",
       "    <tr>\n",
       "      <th>1</th>\n",
       "      <td>01001        Autauga County</td>\n",
       "      <td>01001AutaugaCounty</td>\n",
       "      <td>1001</td>\n",
       "      <td>1001</td>\n",
       "    </tr>\n",
       "    <tr>\n",
       "      <th>2</th>\n",
       "      <td>01003        Baldwin County</td>\n",
       "      <td>01003BaldwinCounty</td>\n",
       "      <td>1003</td>\n",
       "      <td>1003</td>\n",
       "    </tr>\n",
       "    <tr>\n",
       "      <th>3</th>\n",
       "      <td>01005        Barbour County</td>\n",
       "      <td>01005BarbourCounty</td>\n",
       "      <td>1005</td>\n",
       "      <td>1005</td>\n",
       "    </tr>\n",
       "    <tr>\n",
       "      <th>4</th>\n",
       "      <td>01007        Bibb County</td>\n",
       "      <td>01007BibbCounty</td>\n",
       "      <td>1007</td>\n",
       "      <td>1007</td>\n",
       "    </tr>\n",
       "  </tbody>\n",
       "</table>\n",
       "</div>"
      ],
      "text/plain": [
       "             FIPS code        name FIPScodename(no space)  FIPS#  FIPS\n",
       "0             01000        Alabama           01000Alabama   1000  1000\n",
       "1      01001        Autauga County     01001AutaugaCounty   1001  1001\n",
       "2      01003        Baldwin County     01003BaldwinCounty   1003  1003\n",
       "3      01005        Barbour County     01005BarbourCounty   1005  1005\n",
       "4         01007        Bibb County        01007BibbCounty   1007  1007"
      ]
     },
     "execution_count": 12,
     "metadata": {},
     "output_type": "execute_result"
    }
   ],
   "source": [
    "EPA_df= pd.read_csv('EnvirofactsRestAPI (10M).CSV')\n",
    "#EPAsitesFIPS = EPA_df['SEMS_ACTIVE_SITES.SITE_FIPS_CODE']\n",
    "\n",
    "FIPS_CODE_ALL = pd.read_csv('FIPS_CODE.csv')\n",
    "FIPS_CODE_ALL.head()\n"
   ]
  },
  {
   "cell_type": "code",
   "execution_count": 35,
   "metadata": {},
   "outputs": [
    {
     "data": {
      "text/plain": [
       "SEMS_ACTIVE_SITES.RG                    1034\n",
       "SEMS_ACTIVE_SITES.SITE_ID               1034\n",
       "SEMS_ACTIVE_SITES.SITE_EPA_ID           1034\n",
       "SEMS_ACTIVE_SITES.SITE_NAME             1034\n",
       "SEMS_ACTIVE_SITES.SITE_STRT_ADRS1       1034\n",
       "SEMS_ACTIVE_SITES.SITE_STRT_ADRS2         90\n",
       "SEMS_ACTIVE_SITES.SITE_CITY_NAME        1034\n",
       "SEMS_ACTIVE_SITES.SITE_STATE            1034\n",
       "SEMS_ACTIVE_SITES.SITE_ZIP_CODE         1031\n",
       "SEMS_ACTIVE_SITES.SITE_CONG_DISTRICT     811\n",
       "SEMS_ACTIVE_SITES.SITE_CNTY_NAME         986\n",
       "SEMS_ACTIVE_SITES.SITE_FIPS_CODE         986\n",
       "SEMS_ACTIVE_SITES.LATITUDE               177\n",
       "SEMS_ACTIVE_SITES.LONGITUDE              177\n",
       "SEMS_ACTIVE_SITES.ALT_AGREEMENT         1034\n",
       "SEMS_ACTIVE_SITES.NPL                   1034\n",
       "SEMS_ACTIVE_SITES.FF                    1034\n",
       "SEMS_ACTIVE_SITES.NON_NPL_STATUS         771\n",
       "dtype: int64"
      ]
     },
     "execution_count": 35,
     "metadata": {},
     "output_type": "execute_result"
    }
   ],
   "source": [
    "# filter-out just the active sites(where, SEMS_ACTIVE_SITES.FF = \"y\")\n",
    "\n",
    "EPAsitesACTIVE= EPA_df.loc[EPA_df[\"SEMS_ACTIVE_SITES.FF\"]==\"Y\",:]\n",
    "EPAsitesACTIVE.head()\n",
    "EPAsitesACTIVE.count()\n",
    "\n",
    "#1034 FIPS CODES which are active"
   ]
  },
  {
   "cell_type": "code",
   "execution_count": 66,
   "metadata": {},
   "outputs": [
    {
     "name": "stdout",
     "output_type": "stream",
     "text": [
      "204\n"
     ]
    }
   ],
   "source": [
    "# make a list of unique FIPS\n",
    "\n",
    "listuniqueFIPS= EPAsitesACTIVE[\"SEMS_ACTIVE_SITES.SITE_FIPS_CODE\"].unique()\n",
    "#listuniqueFIPS\n",
    "#  print(len(listuniqueFIPS)) gives 483 unique FIPS in this list of active sites\n",
    "\n",
    "\n",
    "\n",
    "# this is a random sample set of 100 FIPS, which are contaminated\n",
    "listuniqueFIPS_df= pd.DataFrame({\"uniqueFIPS\" : listuniqueFIPS})\n",
    "#listuniqueFIPS_df\n",
    "\n",
    "# remove the \"BLANK\" FIPS\n",
    "listuniqueFIPS2_df= listuniqueFIPS_df.dropna(subset=[\"uniqueFIPS\"])\n",
    "#listuniqueFIPS2_df.sort_values([\"uniqueFIPS\"])\n",
    "#print(len(listuniqueFIPS2_df))\n",
    "\n",
    "\n",
    "# this is a random sample set of 100 FIPS, which are contaminated\n",
    "subset_Contaminated_FIPS = listuniqueFIPS2_df.sample(100)\n",
    "subset_Contaminated_FIPS\n",
    "subset_Contaminated_FIPS.count()\n",
    "\n",
    "# NEW Dataframe which only has records for the new subset\n",
    "subset_Contaminated_FIPS_df= EPAsitesACTIVE[EPAsitesACTIVE[\"SEMS_ACTIVE_SITES.SITE_FIPS_CODE\"].isin(subset_Contaminated_FIPS[\"uniqueFIPS\"])== True]\n",
    "subset_Contaminated_FIPS_df.head()\n",
    "\n",
    "\n",
    "#print(len(subset_Contaminated_FIPS_df))  is 204 records (with 100 unique FIPS)\n",
    "\n",
    "#check1= subset_Contaminated_FIPS_df[\"SEMS_ACTIVE_SITES.SITE_FIPS_CODE\"].unique()\n",
    "#print(len(check1))\n"
   ]
  },
  {
   "cell_type": "code",
   "execution_count": null,
   "metadata": {},
   "outputs": [],
   "source": []
  },
  {
   "cell_type": "code",
   "execution_count": null,
   "metadata": {},
   "outputs": [],
   "source": []
  },
  {
   "cell_type": "code",
   "execution_count": null,
   "metadata": {},
   "outputs": [],
   "source": []
  },
  {
   "cell_type": "code",
   "execution_count": 68,
   "metadata": {},
   "outputs": [],
   "source": [
    "#print to csv\n",
    "\n",
    "subset_Contaminated_FIPS_df.to_csv(\"subset_Contaminated_FIPS_df.csv\")"
   ]
  },
  {
   "cell_type": "code",
   "execution_count": null,
   "metadata": {},
   "outputs": [],
   "source": []
  }
 ],
 "metadata": {
  "kernelspec": {
   "display_name": "Python 3",
   "language": "python",
   "name": "python3"
  },
  "language_info": {
   "codemirror_mode": {
    "name": "ipython",
    "version": 3
   },
   "file_extension": ".py",
   "mimetype": "text/x-python",
   "name": "python",
   "nbconvert_exporter": "python",
   "pygments_lexer": "ipython3",
   "version": "3.8.3"
  }
 },
 "nbformat": 4,
 "nbformat_minor": 4
}
